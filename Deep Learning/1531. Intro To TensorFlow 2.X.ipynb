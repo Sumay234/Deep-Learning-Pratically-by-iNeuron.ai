{
 "cells": [
  {
   "cell_type": "code",
   "execution_count": 1,
   "id": "1a06c1d7",
   "metadata": {},
   "outputs": [
    {
     "name": "stdout",
     "output_type": "stream",
     "text": [
      "^C\n",
      "\n",
      "Note: you may need to restart the kernel to use updated packages.\n"
     ]
    }
   ],
   "source": [
    "''' \n",
    "    # To Create new Enivironment:--\n",
    "    \n",
    "    conda create -n env_name python==3.8\n",
    "    conda activate env_name\n",
    "\n",
    "'''"
   ]
  },
  {
   "cell_type": "code",
   "execution_count": 1,
   "id": "efb04a09",
   "metadata": {},
   "outputs": [],
   "source": [
    "import tensorflow as tf"
   ]
  },
  {
   "cell_type": "markdown",
   "id": "85ce7ecc",
   "metadata": {},
   "source": [
    "## GPU/CPU Check"
   ]
  },
  {
   "cell_type": "code",
   "execution_count": 2,
   "id": "8c44e03a",
   "metadata": {},
   "outputs": [
    {
     "data": {
      "text/plain": [
       "'2.12.0'"
      ]
     },
     "execution_count": 2,
     "metadata": {},
     "output_type": "execute_result"
    }
   ],
   "source": [
    "tf.__version__"
   ]
  },
  {
   "cell_type": "code",
   "execution_count": 4,
   "id": "6c8fd2d3",
   "metadata": {},
   "outputs": [
    {
     "data": {
      "text/plain": [
       "'2.12.0'"
      ]
     },
     "execution_count": 4,
     "metadata": {},
     "output_type": "execute_result"
    }
   ],
   "source": [
    "tf.keras.__version__"
   ]
  },
  {
   "cell_type": "code",
   "execution_count": 5,
   "id": "c65af18f",
   "metadata": {},
   "outputs": [
    {
     "name": "stdout",
     "output_type": "stream",
     "text": [
      "WARNING:tensorflow:From C:\\Users\\win11\\AppData\\Local\\Temp\\ipykernel_27412\\3276605404.py:2: is_gpu_available (from tensorflow.python.framework.test_util) is deprecated and will be removed in a future version.\n",
      "Instructions for updating:\n",
      "Use `tf.config.list_physical_devices('GPU')` instead.\n",
      "CPU\n"
     ]
    }
   ],
   "source": [
    "variable=tf.Variable([3,3])\n",
    "if tf.test.is_gpu_available():\n",
    "    print(\"GPU\")\n",
    "    print(\"GPU #0\")\n",
    "    print(var.device.endswith(\"GPU:0\"))\n",
    "else:\n",
    "    print(\"CPU\")"
   ]
  },
  {
   "cell_type": "markdown",
   "id": "c9d7d1c8",
   "metadata": {},
   "source": [
    "## Tensor Constant"
   ]
  },
  {
   "cell_type": "code",
   "execution_count": 6,
   "id": "c273c6c7",
   "metadata": {},
   "outputs": [
    {
     "data": {
      "text/plain": [
       "<tf.Tensor: shape=(), dtype=int32, numpy=42>"
      ]
     },
     "execution_count": 6,
     "metadata": {},
     "output_type": "execute_result"
    }
   ],
   "source": [
    "ineuron=tf.constant(42)\n",
    "ineuron"
   ]
  },
  {
   "cell_type": "code",
   "execution_count": 8,
   "id": "d230afd5",
   "metadata": {},
   "outputs": [
    {
     "data": {
      "text/plain": [
       "42"
      ]
     },
     "execution_count": 8,
     "metadata": {},
     "output_type": "execute_result"
    }
   ],
   "source": [
    "ineuron.numpy()"
   ]
  },
  {
   "cell_type": "code",
   "execution_count": 9,
   "id": "f3ee48c0",
   "metadata": {},
   "outputs": [
    {
     "data": {
      "text/plain": [
       "tf.int32"
      ]
     },
     "execution_count": 9,
     "metadata": {},
     "output_type": "execute_result"
    }
   ],
   "source": [
    "ineuron.dtype"
   ]
  },
  {
   "cell_type": "code",
   "execution_count": 10,
   "id": "806d43eb",
   "metadata": {},
   "outputs": [
    {
     "data": {
      "text/plain": [
       "<tf.Tensor: shape=(), dtype=string, numpy=b'what are you doing'>"
      ]
     },
     "execution_count": 10,
     "metadata": {},
     "output_type": "execute_result"
    }
   ],
   "source": [
    "abc=tf.constant(\"what are you doing\")\n",
    "abc"
   ]
  },
  {
   "cell_type": "code",
   "execution_count": 11,
   "id": "7ecc5e20",
   "metadata": {},
   "outputs": [
    {
     "data": {
      "text/plain": [
       "b'what are you doing'"
      ]
     },
     "execution_count": 11,
     "metadata": {},
     "output_type": "execute_result"
    }
   ],
   "source": [
    "abc.numpy()"
   ]
  },
  {
   "cell_type": "code",
   "execution_count": 12,
   "id": "1407f7b3",
   "metadata": {},
   "outputs": [
    {
     "data": {
      "text/plain": [
       "tf.string"
      ]
     },
     "execution_count": 12,
     "metadata": {},
     "output_type": "execute_result"
    }
   ],
   "source": [
    "abc.dtype"
   ]
  },
  {
   "cell_type": "code",
   "execution_count": 13,
   "id": "cca81ae4",
   "metadata": {},
   "outputs": [],
   "source": [
    "ineuron1=tf.constant([[4,2],[9,5]])"
   ]
  },
  {
   "cell_type": "code",
   "execution_count": 15,
   "id": "6d0d84a9",
   "metadata": {},
   "outputs": [
    {
     "name": "stdout",
     "output_type": "stream",
     "text": [
      "tf.Tensor(\n",
      "[[4 2]\n",
      " [9 5]], shape=(2, 2), dtype=int32)\n"
     ]
    }
   ],
   "source": [
    "print(ineuron1)"
   ]
  },
  {
   "cell_type": "code",
   "execution_count": 18,
   "id": "133aaab3",
   "metadata": {},
   "outputs": [
    {
     "data": {
      "text/plain": [
       "<tf.Tensor: shape=(2, 2), dtype=int32, numpy=\n",
       "array([[4, 2],\n",
       "       [9, 5]])>"
      ]
     },
     "execution_count": 18,
     "metadata": {},
     "output_type": "execute_result"
    }
   ],
   "source": [
    "ineuron1"
   ]
  },
  {
   "cell_type": "code",
   "execution_count": 19,
   "id": "aff81a5d",
   "metadata": {},
   "outputs": [
    {
     "data": {
      "text/plain": [
       "array([[4, 2],\n",
       "       [9, 5]])"
      ]
     },
     "execution_count": 19,
     "metadata": {},
     "output_type": "execute_result"
    }
   ],
   "source": [
    "ineuron1.numpy()"
   ]
  },
  {
   "cell_type": "markdown",
   "id": "4d08e995",
   "metadata": {},
   "source": [
    "#### Commonly used method is to genetate tf.ones and tf.zeroes"
   ]
  },
  {
   "cell_type": "code",
   "execution_count": 23,
   "id": "a69ee0e4",
   "metadata": {},
   "outputs": [
    {
     "name": "stdout",
     "output_type": "stream",
     "text": [
      "tf.Tensor(\n",
      "[[1. 1. 1.]\n",
      " [1. 1. 1.]], shape=(2, 3), dtype=float32)\n"
     ]
    }
   ],
   "source": [
    "print(tf.ones(shape=(2,3)))"
   ]
  },
  {
   "cell_type": "code",
   "execution_count": 24,
   "id": "ba5aa37b",
   "metadata": {},
   "outputs": [
    {
     "data": {
      "text/plain": [
       "<tf.Tensor: shape=(2, 3), dtype=float32, numpy=\n",
       "array([[1., 1., 1.],\n",
       "       [1., 1., 1.]], dtype=float32)>"
      ]
     },
     "execution_count": 24,
     "metadata": {},
     "output_type": "execute_result"
    }
   ],
   "source": [
    "tf.ones(shape=(2,3))"
   ]
  },
  {
   "cell_type": "code",
   "execution_count": 27,
   "id": "5a5c4421",
   "metadata": {},
   "outputs": [
    {
     "name": "stdout",
     "output_type": "stream",
     "text": [
      "tf.Tensor(\n",
      "[[0. 0. 0.]\n",
      " [0. 0. 0.]\n",
      " [0. 0. 0.]\n",
      " [0. 0. 0.]], shape=(4, 3), dtype=float32)\n"
     ]
    }
   ],
   "source": [
    "print(tf.zeros(shape=(4,3)))"
   ]
  },
  {
   "cell_type": "code",
   "execution_count": 28,
   "id": "11c107ae",
   "metadata": {},
   "outputs": [
    {
     "data": {
      "text/plain": [
       "<tf.Tensor: shape=(4, 3), dtype=float32, numpy=\n",
       "array([[0., 0., 0.],\n",
       "       [0., 0., 0.],\n",
       "       [0., 0., 0.],\n",
       "       [0., 0., 0.]], dtype=float32)>"
      ]
     },
     "execution_count": 28,
     "metadata": {},
     "output_type": "execute_result"
    }
   ],
   "source": [
    "tf.zeros(shape=(4,3))"
   ]
  },
  {
   "cell_type": "code",
   "execution_count": 30,
   "id": "e7275c11",
   "metadata": {},
   "outputs": [
    {
     "name": "stdout",
     "output_type": "stream",
     "text": [
      "tf.Tensor(\n",
      "[[ 4  6  8]\n",
      " [ 9 11 13]], shape=(2, 3), dtype=int32)\n"
     ]
    }
   ],
   "source": [
    "const2 =tf.constant([[3,4,5],[5,6,7]]);\n",
    "const3= tf.constant([[1,2,3],[4,5,6]])\n",
    "result=tf.add(const2,const3)\n",
    "print(result)"
   ]
  },
  {
   "cell_type": "markdown",
   "id": "2dbf9127",
   "metadata": {},
   "source": [
    "### Random Constant"
   ]
  },
  {
   "cell_type": "code",
   "execution_count": 31,
   "id": "bba07cba",
   "metadata": {},
   "outputs": [
    {
     "data": {
      "text/plain": [
       "<tf.Tensor: shape=(2, 2), dtype=float32, numpy=\n",
       "array([[ 0.5402462 , -0.9209861 ],\n",
       "       [ 0.35840383,  1.5727737 ]], dtype=float32)>"
      ]
     },
     "execution_count": 31,
     "metadata": {},
     "output_type": "execute_result"
    }
   ],
   "source": [
    "tf.random.normal(shape=(2,2),mean=0,stddev=1.0)\n"
   ]
  },
  {
   "cell_type": "code",
   "execution_count": 34,
   "id": "4fc7e5b1",
   "metadata": {},
   "outputs": [
    {
     "data": {
      "text/plain": [
       "<tf.Tensor: shape=(2, 2), dtype=int32, numpy=\n",
       "array([[0, 8],\n",
       "       [7, 7]])>"
      ]
     },
     "execution_count": 34,
     "metadata": {},
     "output_type": "execute_result"
    }
   ],
   "source": [
    "tf.random.uniform(shape=(2,2),minval=0,maxval=10,dtype=tf.int32)"
   ]
  },
  {
   "cell_type": "markdown",
   "id": "28d440a6",
   "metadata": {},
   "source": [
    "### Declaring Variable"
   ]
  },
  {
   "cell_type": "code",
   "execution_count": 3,
   "id": "99c26735",
   "metadata": {},
   "outputs": [
    {
     "data": {
      "text/plain": [
       "(24,\n",
       " <tf.Variable 'Variable:0' shape=() dtype=int32, numpy=36>,\n",
       " <tf.Variable 'Variable:0' shape=(1, 3, 3) dtype=int32, numpy=\n",
       " array([[[1, 2, 3],\n",
       "         [4, 5, 6],\n",
       "         [7, 8, 9]]])>)"
      ]
     },
     "execution_count": 3,
     "metadata": {},
     "output_type": "execute_result"
    }
   ],
   "source": [
    "var0=24 # Python variable\n",
    "var1=tf.Variable(36)\n",
    "var2=tf.Variable([ [ [1,2,3], [4,5,6], [7,8,9]]])\n",
    "\n",
    "var0,var1,var2"
   ]
  },
  {
   "cell_type": "code",
   "execution_count": 6,
   "id": "4b6714d2",
   "metadata": {},
   "outputs": [
    {
     "data": {
      "text/plain": [
       "<tf.Variable 'Variable:0' shape=(2, 2, 3) dtype=float32, numpy=\n",
       "array([[[ 0.,  1.,  2.],\n",
       "        [ 3.,  4.,  5.]],\n",
       "\n",
       "       [[ 6.,  7.,  8.],\n",
       "        [ 9., 10., 11.]]], dtype=float32)>"
      ]
     },
     "execution_count": 6,
     "metadata": {},
     "output_type": "execute_result"
    }
   ],
   "source": [
    "var3=tf.Variable([ [[0.,1.,2.], [3.,4.,5]], [[6.,7.,8.],[9.,10.,11]]])\n",
    "var3"
   ]
  },
  {
   "cell_type": "markdown",
   "id": "7b086b3a",
   "metadata": {},
   "source": [
    "#### To Reassign a variable"
   ]
  },
  {
   "cell_type": "code",
   "execution_count": 7,
   "id": "786a8e18",
   "metadata": {},
   "outputs": [
    {
     "data": {
      "text/plain": [
       "<tf.Variable 'Variable:0' shape=() dtype=int32, numpy=56>"
      ]
     },
     "execution_count": 7,
     "metadata": {},
     "output_type": "execute_result"
    }
   ],
   "source": [
    "var_reassign=tf.Variable(56)\n",
    "var_reassign"
   ]
  },
  {
   "cell_type": "code",
   "execution_count": 8,
   "id": "a3b0e246",
   "metadata": {},
   "outputs": [
    {
     "data": {
      "text/plain": [
       "<tf.Variable 'UnreadVariable' shape=() dtype=int32, numpy=74>"
      ]
     },
     "execution_count": 8,
     "metadata": {},
     "output_type": "execute_result"
    }
   ],
   "source": [
    "var_reassign.assign(74)"
   ]
  },
  {
   "cell_type": "code",
   "execution_count": 9,
   "id": "2217e223",
   "metadata": {},
   "outputs": [
    {
     "data": {
      "text/plain": [
       "<tf.Variable 'Variable:0' shape=() dtype=int32, numpy=74>"
      ]
     },
     "execution_count": 9,
     "metadata": {},
     "output_type": "execute_result"
    }
   ],
   "source": [
    "var_reassign"
   ]
  },
  {
   "cell_type": "code",
   "execution_count": 12,
   "id": "6bd60226",
   "metadata": {},
   "outputs": [
    {
     "data": {
      "text/plain": [
       "<tf.Variable 'Variable:0' shape=(2, 2) dtype=float32, numpy=\n",
       "array([[-0.73259133,  0.45043862],\n",
       "       [-0.95770437,  0.643987  ]], dtype=float32)>"
      ]
     },
     "execution_count": 12,
     "metadata": {},
     "output_type": "execute_result"
    }
   ],
   "source": [
    "initial_value=tf.random.normal(shape=(2,2))\n",
    "a=tf.Variable(initial_value)\n",
    "a"
   ]
  },
  {
   "cell_type": "code",
   "execution_count": 14,
   "id": "60228720",
   "metadata": {},
   "outputs": [
    {
     "data": {
      "text/plain": [
       "<tf.Variable 'Variable:0' shape=(3, 3, 2) dtype=int32, numpy=\n",
       "array([[[1, 1],\n",
       "        [2, 2],\n",
       "        [3, 3]],\n",
       "\n",
       "       [[4, 4],\n",
       "        [5, 5],\n",
       "        [6, 6]],\n",
       "\n",
       "       [[7, 7],\n",
       "        [8, 8],\n",
       "        [9, 9]]])>"
      ]
     },
     "execution_count": 14,
     "metadata": {},
     "output_type": "execute_result"
    }
   ],
   "source": [
    "tensorr=tf.Variable([ [ [1,1],[2,2],[3,3] ], [ [4,4],[5,5],[6,6] ], [ [7,7],[8,8],[9,9] ] ])\n",
    "tensorr"
   ]
  },
  {
   "cell_type": "code",
   "execution_count": 37,
   "id": "675daea7",
   "metadata": {},
   "outputs": [
    {
     "data": {
      "text/plain": [
       "<tf.Variable 'Variable:0' shape=(2, 3, 4) dtype=float32, numpy=\n",
       "array([[[1., 1., 1., 1.],\n",
       "        [2., 2., 2., 2.],\n",
       "        [3., 3., 3., 3.]],\n",
       "\n",
       "       [[4., 4., 4., 4.],\n",
       "        [5., 5., 5., 5.],\n",
       "        [6., 6., 6., 6.]]], dtype=float32)>"
      ]
     },
     "execution_count": 37,
     "metadata": {},
     "output_type": "execute_result"
    }
   ],
   "source": [
    "tensorr1=tf.Variable([ [ [1.,1,1,1],[2,2,2,2],[3,3,3,3] ], [ [4,4,4,4],[5,5,5,5],[6,6,6,6] ]])\n",
    "tensorr1"
   ]
  },
  {
   "cell_type": "code",
   "execution_count": 20,
   "id": "9db323a3",
   "metadata": {},
   "outputs": [
    {
     "data": {
      "text/plain": [
       "<tf.Tensor: shape=(2, 12), dtype=int32, numpy=\n",
       "array([[1, 1, 1, 1, 2, 2, 2, 2, 3, 3, 3, 3],\n",
       "       [4, 4, 4, 4, 5, 5, 5, 5, 6, 6, 6, 6]])>"
      ]
     },
     "execution_count": 20,
     "metadata": {},
     "output_type": "execute_result"
    }
   ],
   "source": [
    "tensorr2=tf.reshape(tensorr1,[2,12])\n",
    "tensorr2"
   ]
  },
  {
   "cell_type": "code",
   "execution_count": 23,
   "id": "64a5ca95",
   "metadata": {},
   "outputs": [
    {
     "data": {
      "text/plain": [
       "<tf.Variable 'Variable:0' shape=(2, 3, 4) dtype=int32, numpy=\n",
       "array([[[1, 1, 1, 1],\n",
       "        [2, 2, 2, 2],\n",
       "        [3, 3, 3, 3]],\n",
       "\n",
       "       [[4, 4, 4, 4],\n",
       "        [5, 5, 5, 5],\n",
       "        [6, 6, 6, 6]]])>"
      ]
     },
     "execution_count": 23,
     "metadata": {},
     "output_type": "execute_result"
    }
   ],
   "source": [
    "tensorr1"
   ]
  },
  {
   "cell_type": "code",
   "execution_count": 24,
   "id": "2d0d952d",
   "metadata": {},
   "outputs": [
    {
     "data": {
      "text/plain": [
       "array([[[1, 1, 1, 1],\n",
       "        [2, 2, 2, 2],\n",
       "        [3, 3, 3, 3]],\n",
       "\n",
       "       [[4, 4, 4, 4],\n",
       "        [5, 5, 5, 5],\n",
       "        [6, 6, 6, 6]]])"
      ]
     },
     "execution_count": 24,
     "metadata": {},
     "output_type": "execute_result"
    }
   ],
   "source": [
    "tensorr1.numpy()"
   ]
  },
  {
   "cell_type": "code",
   "execution_count": 27,
   "id": "883b0d14",
   "metadata": {},
   "outputs": [
    {
     "data": {
      "text/plain": [
       "4"
      ]
     },
     "execution_count": 27,
     "metadata": {},
     "output_type": "execute_result"
    }
   ],
   "source": [
    "tensorr1[1,0,2].numpy()"
   ]
  },
  {
   "cell_type": "code",
   "execution_count": 28,
   "id": "7b9096c8",
   "metadata": {},
   "outputs": [
    {
     "data": {
      "text/plain": [
       "<tf.Tensor: shape=(), dtype=int32, numpy=18>"
      ]
     },
     "execution_count": 28,
     "metadata": {},
     "output_type": "execute_result"
    }
   ],
   "source": [
    "tenssor_size=tf.size(input=tensorr)\n",
    "tenssor_size"
   ]
  },
  {
   "cell_type": "code",
   "execution_count": 29,
   "id": "b7194c23",
   "metadata": {},
   "outputs": [
    {
     "data": {
      "text/plain": [
       "18"
      ]
     },
     "execution_count": 29,
     "metadata": {},
     "output_type": "execute_result"
    }
   ],
   "source": [
    "tenssor_size=tf.size(input=tensorr).numpy()\n",
    "tenssor_size"
   ]
  },
  {
   "cell_type": "markdown",
   "id": "a00ec807",
   "metadata": {},
   "source": [
    "### Mathematical Operation"
   ]
  },
  {
   "cell_type": "code",
   "execution_count": 30,
   "id": "68de7f9b",
   "metadata": {},
   "outputs": [
    {
     "name": "stdout",
     "output_type": "stream",
     "text": [
      "tf.Tensor(\n",
      "[[ 0.5185343  -0.5458327 ]\n",
      " [ 0.52655137 -0.46319637]], shape=(2, 2), dtype=float32)\n",
      "tf.Tensor(\n",
      "[[0.26887783 0.29793334]\n",
      " [0.27725634 0.21455087]], shape=(2, 2), dtype=float32)\n",
      "tf.Tensor(\n",
      "[[1.6795641  0.5793592 ]\n",
      " [1.6930834  0.62926906]], shape=(2, 2), dtype=float32)\n"
     ]
    }
   ],
   "source": [
    "a=tf.random.normal(shape=(2,2))\n",
    "b=tf.random.normal(shape=(2,2))\n",
    "c=a+b\n",
    "d=tf.square(c)\n",
    "e=tf.exp(c)\n",
    "\n",
    "print(c)\n",
    "print(d)\n",
    "print(e)"
   ]
  },
  {
   "cell_type": "code",
   "execution_count": 31,
   "id": "48483a49",
   "metadata": {},
   "outputs": [
    {
     "data": {
      "text/plain": [
       "<tf.Tensor: shape=(), dtype=int32, numpy=7>"
      ]
     },
     "execution_count": 31,
     "metadata": {},
     "output_type": "execute_result"
    }
   ],
   "source": [
    "a=tf.Variable(3)\n",
    "b=tf.Variable(4)\n",
    "c=a+b\n",
    "c"
   ]
  },
  {
   "cell_type": "code",
   "execution_count": 32,
   "id": "46e52410",
   "metadata": {},
   "outputs": [
    {
     "data": {
      "text/plain": [
       "<tf.Tensor: shape=(2,), dtype=int32, numpy=array([6, 8])>"
      ]
     },
     "execution_count": 32,
     "metadata": {},
     "output_type": "execute_result"
    }
   ],
   "source": [
    "a=tf.Variable([2,3])\n",
    "b=tf.Variable([4,5])\n",
    "c=a+b\n",
    "c"
   ]
  },
  {
   "cell_type": "markdown",
   "id": "ac5c6fc5",
   "metadata": {},
   "source": [
    "### Matrix Multilplication"
   ]
  },
  {
   "cell_type": "code",
   "execution_count": 33,
   "id": "d0cbdefa",
   "metadata": {},
   "outputs": [
    {
     "data": {
      "text/plain": [
       "<tf.Tensor: shape=(1, 1), dtype=int32, numpy=array([[32]])>"
      ]
     },
     "execution_count": 33,
     "metadata": {},
     "output_type": "execute_result"
    }
   ],
   "source": [
    "matrix_u=tf.constant([[1,2,3]])\n",
    "matrix_v=tf.constant([[4,5,6]])\n",
    "tf.matmul(matrix_u,tf.transpose(matrix_v))"
   ]
  },
  {
   "cell_type": "markdown",
   "id": "650d1ca4",
   "metadata": {},
   "source": [
    "### Changing the Datatype"
   ]
  },
  {
   "cell_type": "code",
   "execution_count": 38,
   "id": "00de3871",
   "metadata": {},
   "outputs": [
    {
     "data": {
      "text/plain": [
       "<tf.Variable 'Variable:0' shape=(2, 3, 4) dtype=float32, numpy=\n",
       "array([[[1., 1., 1., 1.],\n",
       "        [2., 2., 2., 2.],\n",
       "        [3., 3., 3., 3.]],\n",
       "\n",
       "       [[4., 4., 4., 4.],\n",
       "        [5., 5., 5., 5.],\n",
       "        [6., 6., 6., 6.]]], dtype=float32)>"
      ]
     },
     "execution_count": 38,
     "metadata": {},
     "output_type": "execute_result"
    }
   ],
   "source": [
    "tensorr1"
   ]
  },
  {
   "cell_type": "code",
   "execution_count": 39,
   "id": "0577bae7",
   "metadata": {},
   "outputs": [
    {
     "data": {
      "text/plain": [
       "<tf.Tensor: shape=(2, 3, 4), dtype=int32, numpy=\n",
       "array([[[1, 1, 1, 1],\n",
       "        [2, 2, 2, 2],\n",
       "        [3, 3, 3, 3]],\n",
       "\n",
       "       [[4, 4, 4, 4],\n",
       "        [5, 5, 5, 5],\n",
       "        [6, 6, 6, 6]]])>"
      ]
     },
     "execution_count": 39,
     "metadata": {},
     "output_type": "execute_result"
    }
   ],
   "source": [
    "# Change the dtype \n",
    "tf.cast(tensorr1,dtype=tf.int32)"
   ]
  },
  {
   "cell_type": "code",
   "execution_count": 43,
   "id": "3e12761b",
   "metadata": {},
   "outputs": [
    {
     "data": {
      "text/plain": [
       "<tf.Tensor: shape=(3,), dtype=int32, numpy=array([4, 4, 4])>"
      ]
     },
     "execution_count": 43,
     "metadata": {},
     "output_type": "execute_result"
    }
   ],
   "source": [
    "j=tf.cast(tf.constant(4,6,3),dtype=tf.int32)\n",
    "j"
   ]
  },
  {
   "cell_type": "code",
   "execution_count": 44,
   "id": "b048e080",
   "metadata": {},
   "outputs": [
    {
     "data": {
      "text/plain": [
       "1614546652496"
      ]
     },
     "execution_count": 44,
     "metadata": {},
     "output_type": "execute_result"
    }
   ],
   "source": [
    "id(j)"
   ]
  },
  {
   "cell_type": "markdown",
   "id": "b81574e8",
   "metadata": {},
   "source": [
    "## Ragged Tensor"
   ]
  },
  {
   "cell_type": "code",
   "execution_count": 46,
   "id": "369e099e",
   "metadata": {},
   "outputs": [
    {
     "data": {
      "text/plain": [
       "<tf.RaggedTensor [[1, 2, 3], [], [4, 1, 2, 3], [1, 2]]>"
      ]
     },
     "execution_count": 46,
     "metadata": {},
     "output_type": "execute_result"
    }
   ],
   "source": [
    "# Here we can give Different different Dimension of the dataset:\n",
    "ragged=tf.ragged.constant([[1,2,3],[],[4,1,2,3],[1,2]])\n",
    "ragged"
   ]
  },
  {
   "cell_type": "code",
   "execution_count": 55,
   "id": "0485185c",
   "metadata": {},
   "outputs": [
    {
     "name": "stdout",
     "output_type": "stream",
     "text": [
      "tf.Tensor([1], shape=(1,), dtype=int32)\n",
      "tf.Tensor([4 1 2 3], shape=(4,), dtype=int32)\n"
     ]
    }
   ],
   "source": [
    "print(ragged[0,:1])\n",
    "print(ragged[2,:])"
   ]
  },
  {
   "cell_type": "markdown",
   "id": "db41f839",
   "metadata": {},
   "source": [
    "### Mean median max"
   ]
  },
  {
   "cell_type": "code",
   "execution_count": 56,
   "id": "6b68c4cd",
   "metadata": {},
   "outputs": [
    {
     "data": {
      "text/plain": [
       "<tf.Tensor: shape=(2, 2), dtype=float32, numpy=\n",
       "array([[8., 9.],\n",
       "       [1., 2.]], dtype=float32)>"
      ]
     },
     "execution_count": 56,
     "metadata": {},
     "output_type": "execute_result"
    }
   ],
   "source": [
    "number=tf.constant([ [8.,9.], [1.,2.]])\n",
    "number"
   ]
  },
  {
   "cell_type": "code",
   "execution_count": 57,
   "id": "ace2991c",
   "metadata": {},
   "outputs": [
    {
     "data": {
      "text/plain": [
       "<tf.Tensor: shape=(), dtype=float32, numpy=5.0>"
      ]
     },
     "execution_count": 57,
     "metadata": {},
     "output_type": "execute_result"
    }
   ],
   "source": [
    "tf.reduce_mean(input_tensor=number)"
   ]
  },
  {
   "cell_type": "code",
   "execution_count": 58,
   "id": "b86627d8",
   "metadata": {},
   "outputs": [
    {
     "data": {
      "text/plain": [
       "<tf.Tensor: shape=(), dtype=float32, numpy=9.0>"
      ]
     },
     "execution_count": 58,
     "metadata": {},
     "output_type": "execute_result"
    }
   ],
   "source": [
    "tf.reduce_max(input_tensor=number)"
   ]
  },
  {
   "cell_type": "code",
   "execution_count": 59,
   "id": "e0de6339",
   "metadata": {},
   "outputs": [
    {
     "data": {
      "text/plain": [
       "<tf.Tensor: shape=(), dtype=float32, numpy=1.0>"
      ]
     },
     "execution_count": 59,
     "metadata": {},
     "output_type": "execute_result"
    }
   ],
   "source": [
    "tf.reduce_min(input_tensor=number)"
   ]
  },
  {
   "cell_type": "code",
   "execution_count": 64,
   "id": "a8efbaf6",
   "metadata": {},
   "outputs": [
    {
     "data": {
      "text/plain": [
       "<tf.Tensor: shape=(2, 2), dtype=float32, numpy=\n",
       "array([[8., 9.],\n",
       "       [1., 2.]], dtype=float32)>"
      ]
     },
     "execution_count": 64,
     "metadata": {},
     "output_type": "execute_result"
    }
   ],
   "source": [
    "number"
   ]
  },
  {
   "cell_type": "code",
   "execution_count": 62,
   "id": "5b5cd470",
   "metadata": {},
   "outputs": [
    {
     "data": {
      "text/plain": [
       "<tf.Tensor: shape=(2,), dtype=float32, numpy=array([4.5, 5.5], dtype=float32)>"
      ]
     },
     "execution_count": 62,
     "metadata": {},
     "output_type": "execute_result"
    }
   ],
   "source": [
    "tf.reduce_mean(input_tensor=number,axis=0)"
   ]
  },
  {
   "cell_type": "code",
   "execution_count": 63,
   "id": "042303f5",
   "metadata": {},
   "outputs": [
    {
     "data": {
      "text/plain": [
       "<tf.Tensor: shape=(2,), dtype=float32, numpy=array([8.5, 1.5], dtype=float32)>"
      ]
     },
     "execution_count": 63,
     "metadata": {},
     "output_type": "execute_result"
    }
   ],
   "source": [
    "tf.reduce_mean(input_tensor=number,axis=1)"
   ]
  },
  {
   "cell_type": "code",
   "execution_count": null,
   "id": "af72062f",
   "metadata": {},
   "outputs": [],
   "source": []
  },
  {
   "cell_type": "code",
   "execution_count": 87,
   "id": "f2d7353d",
   "metadata": {},
   "outputs": [
    {
     "data": {
      "text/plain": [
       "<tf.Tensor: shape=(3, 2), dtype=float32, numpy=\n",
       "array([[ 6.9702053, 12.397479 ],\n",
       "       [10.290582 ,  8.864535 ],\n",
       "       [ 8.798839 , 13.825927 ]], dtype=float32)>"
      ]
     },
     "execution_count": 87,
     "metadata": {},
     "output_type": "execute_result"
    }
   ],
   "source": [
    "tf.random.set_seed(5)\n",
    "tf.random.normal(shape=(3,2),mean=10,stddev=2,dtype=tf.float32,seed=5,name=None)"
   ]
  },
  {
   "cell_type": "code",
   "execution_count": null,
   "id": "d38d0af6",
   "metadata": {},
   "outputs": [],
   "source": []
  },
  {
   "cell_type": "code",
   "execution_count": 89,
   "id": "3337871e",
   "metadata": {},
   "outputs": [
    {
     "name": "stdout",
     "output_type": "stream",
     "text": [
      "tf.Tensor(\n",
      "[[ 4  2  6]\n",
      " [ 1  2  3]\n",
      " [ 6  2  8]\n",
      " [ 5  1  6]\n",
      " [ 6  6 12]\n",
      " [ 1  5  6]\n",
      " [ 4  6 10]\n",
      " [ 1  4  5]\n",
      " [ 4  6 10]\n",
      " [ 5  3  8]], shape=(10, 3), dtype=int32)\n"
     ]
    }
   ],
   "source": [
    "dice_1=tf.Variable(tf.random.uniform([10,1],minval=1,maxval=7,dtype=tf.int32))\n",
    "dice_2=tf.Variable(tf.random.uniform([10,1],minval=1,maxval=7,dtype=tf.int32))\n",
    "\n",
    "dice_sum=dice_1+dice_2\n",
    "final_matrix=tf.concat(values=[dice_1,dice_2,dice_sum],axis=1)\n",
    "print(final_matrix)"
   ]
  },
  {
   "cell_type": "markdown",
   "id": "d5e9608d",
   "metadata": {},
   "source": [
    "### CheckPoint`"
   ]
  },
  {
   "cell_type": "code",
   "execution_count": 91,
   "id": "30c30061",
   "metadata": {},
   "outputs": [
    {
     "ename": "NameError",
     "evalue": "name 'checkpoint' is not defined",
     "output_type": "error",
     "traceback": [
      "\u001b[1;31m---------------------------------------------------------------------------\u001b[0m",
      "\u001b[1;31mNameError\u001b[0m                                 Traceback (most recent call last)",
      "Input \u001b[1;32mIn [91]\u001b[0m, in \u001b[0;36m<cell line: 2>\u001b[1;34m()\u001b[0m\n\u001b[0;32m      1\u001b[0m variable_1\u001b[38;5;241m=\u001b[39mtf\u001b[38;5;241m.\u001b[39mVariable([ [\u001b[38;5;241m5\u001b[39m,\u001b[38;5;241m6\u001b[39m,\u001b[38;5;241m7\u001b[39m,\u001b[38;5;241m8\u001b[39m] , [\u001b[38;5;241m9\u001b[39m,\u001b[38;5;241m10\u001b[39m,\u001b[38;5;241m11\u001b[39m,\u001b[38;5;241m12\u001b[39m]])\n\u001b[1;32m----> 2\u001b[0m \u001b[43mcheckpoint\u001b[49m(tf\u001b[38;5;241m.\u001b[39mtrain\u001b[38;5;241m.\u001b[39mCheckpoint(var\u001b[38;5;241m=\u001b[39mvariable_1))\n\u001b[0;32m      3\u001b[0m savepath\u001b[38;5;241m=\u001b[39mcheckpoint\u001b[38;5;241m.\u001b[39msave(\u001b[38;5;124m'\u001b[39m\u001b[38;5;124mH:/\u001b[39m\u001b[38;5;124m'\u001b[39m)\n\u001b[0;32m      4\u001b[0m variable_1\u001b[38;5;241m.\u001b[39massign([ [\u001b[38;5;241m0\u001b[39m,\u001b[38;5;241m0\u001b[39m,\u001b[38;5;241m0\u001b[39m,\u001b[38;5;241m0\u001b[39m] , [\u001b[38;5;241m0\u001b[39m,\u001b[38;5;241m0\u001b[39m,\u001b[38;5;241m0\u001b[39m,\u001b[38;5;241m0\u001b[39m]])\n",
      "\u001b[1;31mNameError\u001b[0m: name 'checkpoint' is not defined"
     ]
    }
   ],
   "source": [
    "variable_1=tf.Variable([ [5,6,7,8] , [9,10,11,12]])\n",
    "checkpoint(tf.train.Checkpoint(var=variable_1))\n",
    "savepath=checkpoint.save('')\n",
    "variable_1.assign([ [0,0,0,0] , [0,0,0,0]])\n",
    "\n",
    "variable_1\n",
    "checkpoint.restore(savepath)\n",
    "print(variable_1)"
   ]
  },
  {
   "cell_type": "markdown",
   "id": "3d723ef2",
   "metadata": {},
   "source": [
    "## Gradient Tape"
   ]
  },
  {
   "cell_type": "code",
   "execution_count": 118,
   "id": "a5a83df2",
   "metadata": {},
   "outputs": [
    {
     "name": "stdout",
     "output_type": "stream",
     "text": [
      "tf.Tensor(\n",
      "[[-0.47773024 -0.7376062 ]\n",
      " [ 0.15465102  0.17718387]], shape=(2, 2), dtype=float32)\n"
     ]
    }
   ],
   "source": [
    "a=tf.random.normal(shape=(2,2))\n",
    "b=tf.random.normal(shape=(2,2))\n",
    "with tf.GradientTape() as tape:\n",
    "    tape.watch(a)\n",
    "    c=tf.sqrt(tf.square(a) + tf.square(b))\n",
    "    dc_da=tape.gradient(c,a)\n",
    "    print(dc_da)"
   ]
  },
  {
   "cell_type": "code",
   "execution_count": 122,
   "id": "dfd7fc38",
   "metadata": {},
   "outputs": [
    {
     "name": "stdout",
     "output_type": "stream",
     "text": [
      "tf.Tensor(\n",
      "[[-0.47773024 -0.7376062 ]\n",
      " [ 0.15465102  0.17718387]], shape=(2, 2), dtype=float32)\n"
     ]
    }
   ],
   "source": [
    "a=tf.Variable(a)\n",
    "with tf.GradientTape() as tape:\n",
    "    c=tf.sqrt(tf.square(a) + tf.square(b))\n",
    "    dc_da=tape.gradient(c,a)\n",
    "    print(dc_da)"
   ]
  },
  {
   "cell_type": "markdown",
   "id": "364b3f30",
   "metadata": {},
   "source": [
    "# Using The DataSet"
   ]
  },
  {
   "cell_type": "code",
   "execution_count": 125,
   "id": "1bff2893",
   "metadata": {
    "scrolled": true
   },
   "outputs": [
    {
     "name": "stdout",
     "output_type": "stream",
     "text": [
      "Downloading data from https://storage.googleapis.com/tensorflow/tf-keras-datasets/mnist.npz\n",
      "11490434/11490434 [==============================] - 40s 4us/step\n"
     ]
    },
    {
     "data": {
      "text/plain": [
       "((array([[[0, 0, 0, ..., 0, 0, 0],\n",
       "          [0, 0, 0, ..., 0, 0, 0],\n",
       "          [0, 0, 0, ..., 0, 0, 0],\n",
       "          ...,\n",
       "          [0, 0, 0, ..., 0, 0, 0],\n",
       "          [0, 0, 0, ..., 0, 0, 0],\n",
       "          [0, 0, 0, ..., 0, 0, 0]],\n",
       "  \n",
       "         [[0, 0, 0, ..., 0, 0, 0],\n",
       "          [0, 0, 0, ..., 0, 0, 0],\n",
       "          [0, 0, 0, ..., 0, 0, 0],\n",
       "          ...,\n",
       "          [0, 0, 0, ..., 0, 0, 0],\n",
       "          [0, 0, 0, ..., 0, 0, 0],\n",
       "          [0, 0, 0, ..., 0, 0, 0]],\n",
       "  \n",
       "         [[0, 0, 0, ..., 0, 0, 0],\n",
       "          [0, 0, 0, ..., 0, 0, 0],\n",
       "          [0, 0, 0, ..., 0, 0, 0],\n",
       "          ...,\n",
       "          [0, 0, 0, ..., 0, 0, 0],\n",
       "          [0, 0, 0, ..., 0, 0, 0],\n",
       "          [0, 0, 0, ..., 0, 0, 0]],\n",
       "  \n",
       "         ...,\n",
       "  \n",
       "         [[0, 0, 0, ..., 0, 0, 0],\n",
       "          [0, 0, 0, ..., 0, 0, 0],\n",
       "          [0, 0, 0, ..., 0, 0, 0],\n",
       "          ...,\n",
       "          [0, 0, 0, ..., 0, 0, 0],\n",
       "          [0, 0, 0, ..., 0, 0, 0],\n",
       "          [0, 0, 0, ..., 0, 0, 0]],\n",
       "  \n",
       "         [[0, 0, 0, ..., 0, 0, 0],\n",
       "          [0, 0, 0, ..., 0, 0, 0],\n",
       "          [0, 0, 0, ..., 0, 0, 0],\n",
       "          ...,\n",
       "          [0, 0, 0, ..., 0, 0, 0],\n",
       "          [0, 0, 0, ..., 0, 0, 0],\n",
       "          [0, 0, 0, ..., 0, 0, 0]],\n",
       "  \n",
       "         [[0, 0, 0, ..., 0, 0, 0],\n",
       "          [0, 0, 0, ..., 0, 0, 0],\n",
       "          [0, 0, 0, ..., 0, 0, 0],\n",
       "          ...,\n",
       "          [0, 0, 0, ..., 0, 0, 0],\n",
       "          [0, 0, 0, ..., 0, 0, 0],\n",
       "          [0, 0, 0, ..., 0, 0, 0]]], dtype=uint8),\n",
       "  array([5, 0, 4, ..., 5, 6, 8], dtype=uint8)),\n",
       " (array([[[0, 0, 0, ..., 0, 0, 0],\n",
       "          [0, 0, 0, ..., 0, 0, 0],\n",
       "          [0, 0, 0, ..., 0, 0, 0],\n",
       "          ...,\n",
       "          [0, 0, 0, ..., 0, 0, 0],\n",
       "          [0, 0, 0, ..., 0, 0, 0],\n",
       "          [0, 0, 0, ..., 0, 0, 0]],\n",
       "  \n",
       "         [[0, 0, 0, ..., 0, 0, 0],\n",
       "          [0, 0, 0, ..., 0, 0, 0],\n",
       "          [0, 0, 0, ..., 0, 0, 0],\n",
       "          ...,\n",
       "          [0, 0, 0, ..., 0, 0, 0],\n",
       "          [0, 0, 0, ..., 0, 0, 0],\n",
       "          [0, 0, 0, ..., 0, 0, 0]],\n",
       "  \n",
       "         [[0, 0, 0, ..., 0, 0, 0],\n",
       "          [0, 0, 0, ..., 0, 0, 0],\n",
       "          [0, 0, 0, ..., 0, 0, 0],\n",
       "          ...,\n",
       "          [0, 0, 0, ..., 0, 0, 0],\n",
       "          [0, 0, 0, ..., 0, 0, 0],\n",
       "          [0, 0, 0, ..., 0, 0, 0]],\n",
       "  \n",
       "         ...,\n",
       "  \n",
       "         [[0, 0, 0, ..., 0, 0, 0],\n",
       "          [0, 0, 0, ..., 0, 0, 0],\n",
       "          [0, 0, 0, ..., 0, 0, 0],\n",
       "          ...,\n",
       "          [0, 0, 0, ..., 0, 0, 0],\n",
       "          [0, 0, 0, ..., 0, 0, 0],\n",
       "          [0, 0, 0, ..., 0, 0, 0]],\n",
       "  \n",
       "         [[0, 0, 0, ..., 0, 0, 0],\n",
       "          [0, 0, 0, ..., 0, 0, 0],\n",
       "          [0, 0, 0, ..., 0, 0, 0],\n",
       "          ...,\n",
       "          [0, 0, 0, ..., 0, 0, 0],\n",
       "          [0, 0, 0, ..., 0, 0, 0],\n",
       "          [0, 0, 0, ..., 0, 0, 0]],\n",
       "  \n",
       "         [[0, 0, 0, ..., 0, 0, 0],\n",
       "          [0, 0, 0, ..., 0, 0, 0],\n",
       "          [0, 0, 0, ..., 0, 0, 0],\n",
       "          ...,\n",
       "          [0, 0, 0, ..., 0, 0, 0],\n",
       "          [0, 0, 0, ..., 0, 0, 0],\n",
       "          [0, 0, 0, ..., 0, 0, 0]]], dtype=uint8),\n",
       "  array([7, 2, 1, ..., 4, 5, 6], dtype=uint8)))"
      ]
     },
     "execution_count": 125,
     "metadata": {},
     "output_type": "execute_result"
    }
   ],
   "source": [
    "mnist_data=tf.keras.datasets.mnist\n",
    "mnist_data.load_data()"
   ]
  },
  {
   "cell_type": "code",
   "execution_count": 126,
   "id": "0f9be976",
   "metadata": {},
   "outputs": [],
   "source": [
    "(train_x,train_y),(test_x,test_y)=mnist_data.load_data()"
   ]
  },
  {
   "cell_type": "code",
   "execution_count": 134,
   "id": "8b56143f",
   "metadata": {},
   "outputs": [
    {
     "name": "stdout",
     "output_type": "stream",
     "text": [
      "Train Size:  (60000, 28, 28)\n",
      "Test Size:  (10000, 28, 28)\n"
     ]
    }
   ],
   "source": [
    "print(\"Train Size: \",train_x.shape)\n",
    "print(\"Test Size: \",test_x.shape)"
   ]
  },
  {
   "cell_type": "code",
   "execution_count": 135,
   "id": "2a9f2341",
   "metadata": {},
   "outputs": [],
   "source": [
    "epochs=10\n",
    "batch_size=32"
   ]
  },
  {
   "cell_type": "code",
   "execution_count": 136,
   "id": "15676928",
   "metadata": {},
   "outputs": [],
   "source": [
    "train_x, test_x = tf.cast(train_x/255.0, tf.float32), tf.cast(test_x/255.0, tf.float32)\n",
    "train_y, test_y = tf.cast(train_y,tf.int64), tf.cast(test_y,tf.int64)"
   ]
  },
  {
   "cell_type": "markdown",
   "id": "b9d47223",
   "metadata": {},
   "source": [
    "## Building The Model"
   ]
  },
  {
   "cell_type": "code",
   "execution_count": 143,
   "id": "bdaa2d56",
   "metadata": {},
   "outputs": [],
   "source": [
    "mnistmodel_1=tf.keras.models.Sequential([\n",
    "    tf.keras.layers.Flatten(), # input layer\n",
    "    tf.keras.layers.Dense(512,activation=tf.nn.relu), # hidden layer\n",
    "    tf.keras.layers.Dense(60,activation=tf.nn.tanh),  # 2nd hidden layer\n",
    "    tf.keras.layers.Dropout(0.2),\n",
    "    tf.keras.layers.Dense(10,activation=tf.nn.softmax) # output layer\n",
    "])"
   ]
  },
  {
   "cell_type": "markdown",
   "id": "cff3eeb8",
   "metadata": {},
   "source": [
    "### compile the model with optimiser"
   ]
  },
  {
   "cell_type": "code",
   "execution_count": 146,
   "id": "ea198321",
   "metadata": {},
   "outputs": [],
   "source": [
    "optimiser=tf.keras.optimizers.Adam()\n",
    "mnistmodel_1.compile(optimizer=optimiser,loss='sparse_categorical_crossentropy',metrics=['accuracy'])"
   ]
  },
  {
   "cell_type": "code",
   "execution_count": 147,
   "id": "044dde8f",
   "metadata": {},
   "outputs": [
    {
     "name": "stdout",
     "output_type": "stream",
     "text": [
      "Epoch 1/5\n",
      "1875/1875 [==============================] - 17s 9ms/step - loss: 0.2075 - accuracy: 0.9396\n",
      "Epoch 2/5\n",
      "1875/1875 [==============================] - 14s 8ms/step - loss: 0.0865 - accuracy: 0.9735\n",
      "Epoch 3/5\n",
      "1875/1875 [==============================] - 13s 7ms/step - loss: 0.0597 - accuracy: 0.9816\n",
      "Epoch 4/5\n",
      "1875/1875 [==============================] - 13s 7ms/step - loss: 0.0452 - accuracy: 0.9856\n",
      "Epoch 5/5\n",
      "1875/1875 [==============================] - 14s 8ms/step - loss: 0.0360 - accuracy: 0.9887\n"
     ]
    },
    {
     "data": {
      "text/plain": [
       "<keras.callbacks.History at 0x1779e53d3d0>"
      ]
     },
     "execution_count": 147,
     "metadata": {},
     "output_type": "execute_result"
    }
   ],
   "source": [
    "# Fitting The model:\n",
    "mnistmodel_1.fit(train_x,train_y,batch_size=32,epochs=5)"
   ]
  },
  {
   "cell_type": "code",
   "execution_count": 148,
   "id": "dfb4e642",
   "metadata": {},
   "outputs": [
    {
     "name": "stdout",
     "output_type": "stream",
     "text": [
      "313/313 [==============================] - 1s 2ms/step - loss: 0.0632 - accuracy: 0.9819\n"
     ]
    },
    {
     "data": {
      "text/plain": [
       "[0.06317757070064545, 0.9818999767303467]"
      ]
     },
     "execution_count": 148,
     "metadata": {},
     "output_type": "execute_result"
    }
   ],
   "source": [
    "# Evaluting the model (testing)\n",
    "mnistmodel_1.evaluate(test_x,test_y)"
   ]
  },
  {
   "cell_type": "code",
   "execution_count": 149,
   "id": "9cd20394",
   "metadata": {},
   "outputs": [
    {
     "name": "stdout",
     "output_type": "stream",
     "text": [
      "313/313 [==============================] - 1s 2ms/step\n"
     ]
    },
    {
     "data": {
      "text/plain": [
       "array([[3.5977715e-07, 2.1318876e-05, 9.4483739e-06, ..., 9.9990833e-01,\n",
       "        2.0533969e-06, 1.0765631e-05],\n",
       "       [4.9399046e-06, 1.8237975e-05, 9.9996173e-01, ..., 1.2180498e-06,\n",
       "        3.9730971e-06, 2.7254867e-08],\n",
       "       [2.1514020e-06, 9.9992740e-01, 4.6548257e-06, ..., 3.1685555e-05,\n",
       "        5.3463555e-06, 7.1009026e-08],\n",
       "       ...,\n",
       "       [3.7423789e-07, 4.2725637e-06, 2.6277641e-07, ..., 7.2999196e-06,\n",
       "        2.2991653e-06, 3.3012839e-05],\n",
       "       [1.6979836e-06, 8.2297743e-07, 1.9362874e-07, ..., 9.7549787e-07,\n",
       "        3.4342194e-04, 2.0663958e-06],\n",
       "       [1.2674394e-05, 7.5065691e-07, 7.0374899e-06, ..., 3.7873786e-08,\n",
       "        1.5306859e-06, 1.3589018e-07]], dtype=float32)"
      ]
     },
     "execution_count": 149,
     "metadata": {},
     "output_type": "execute_result"
    }
   ],
   "source": [
    "# Prediction:\n",
    "mnistmodel_1.predict(test_x)"
   ]
  },
  {
   "cell_type": "code",
   "execution_count": 152,
   "id": "a20b95ad",
   "metadata": {},
   "outputs": [
    {
     "ename": "AttributeError",
     "evalue": "'Sequential' object has no attribute 'predict_classes'",
     "output_type": "error",
     "traceback": [
      "\u001b[1;31m---------------------------------------------------------------------------\u001b[0m",
      "\u001b[1;31mAttributeError\u001b[0m                            Traceback (most recent call last)",
      "Input \u001b[1;32mIn [152]\u001b[0m, in \u001b[0;36m<cell line: 1>\u001b[1;34m()\u001b[0m\n\u001b[1;32m----> 1\u001b[0m \u001b[43mmnistmodel_1\u001b[49m\u001b[38;5;241;43m.\u001b[39;49m\u001b[43mpredict_classes\u001b[49m(test_x)\n",
      "\u001b[1;31mAttributeError\u001b[0m: 'Sequential' object has no attribute 'predict_classes'"
     ]
    }
   ],
   "source": [
    "mnistmodel_1.predict_classes(test_x) ## this function is removed in the new verrsiom"
   ]
  },
  {
   "cell_type": "code",
   "execution_count": 154,
   "id": "35be3501",
   "metadata": {},
   "outputs": [],
   "source": [
    "mnistmodel_2=tf.keras.models.Sequential([\n",
    "    tf.keras.layers.Flatten(),\n",
    "    tf.keras.layers.Dense(744,activation=tf.nn.relu),\n",
    "    tf.keras.layers.Dense(102,activation=tf.nn.relu),\n",
    "    tf.keras.layers.Dropout(0.2),\n",
    "    tf.keras.layers.Dense(40,activation=tf.nn.tanh),\n",
    "    tf.keras.layers.Dense(10,activation=tf.nn.softmax) # Output layer\n",
    "])"
   ]
  },
  {
   "cell_type": "code",
   "execution_count": 155,
   "id": "4ed8a442",
   "metadata": {},
   "outputs": [],
   "source": [
    "mnistmodel_2.compile(optimizer=tf.keras.optimizers.Adam(),loss='sparse_categorical_crossentropy',\n",
    "                     metrics=[\"accuracy\"])"
   ]
  },
  {
   "cell_type": "code",
   "execution_count": 156,
   "id": "167fd783",
   "metadata": {},
   "outputs": [
    {
     "name": "stdout",
     "output_type": "stream",
     "text": [
      "Epoch 1/4\n",
      "938/938 [==============================] - 13s 13ms/step - loss: 0.2385 - accuracy: 0.9331\n",
      "Epoch 2/4\n",
      "938/938 [==============================] - 11s 12ms/step - loss: 0.0957 - accuracy: 0.9714\n",
      "Epoch 3/4\n",
      "938/938 [==============================] - 12s 13ms/step - loss: 0.0666 - accuracy: 0.9793\n",
      "Epoch 4/4\n",
      "938/938 [==============================] - 13s 14ms/step - loss: 0.0491 - accuracy: 0.9852\n"
     ]
    },
    {
     "data": {
      "text/plain": [
       "<keras.callbacks.History at 0x177a0ff1160>"
      ]
     },
     "execution_count": 156,
     "metadata": {},
     "output_type": "execute_result"
    }
   ],
   "source": [
    "mnistmodel_2.fit(train_x,train_y,batch_size=64,epochs=4)"
   ]
  },
  {
   "cell_type": "code",
   "execution_count": 157,
   "id": "a662f469",
   "metadata": {},
   "outputs": [
    {
     "name": "stdout",
     "output_type": "stream",
     "text": [
      "313/313 [==============================] - 1s 3ms/step - loss: 0.0826 - accuracy: 0.9760\n"
     ]
    },
    {
     "data": {
      "text/plain": [
       "[0.08262426406145096, 0.9760000109672546]"
      ]
     },
     "execution_count": 157,
     "metadata": {},
     "output_type": "execute_result"
    }
   ],
   "source": [
    "mnistmodel_2.evaluate(test_x,test_y)"
   ]
  },
  {
   "cell_type": "markdown",
   "id": "5d7c8b29",
   "metadata": {},
   "source": [
    "## To Save mmodel"
   ]
  },
  {
   "cell_type": "code",
   "execution_count": 160,
   "id": "47701aab",
   "metadata": {},
   "outputs": [
    {
     "name": "stderr",
     "output_type": "stream",
     "text": [
      "WARNING:absl:Found untraced functions such as _update_step_xla while saving (showing 1 of 1). These functions will not be directly callable after loading.\n"
     ]
    },
    {
     "name": "stdout",
     "output_type": "stream",
     "text": [
      "INFO:tensorflow:Assets written to: C:/Users/win11/iNeuron_Classes/2_Recorded_classes_ineuron/18. Deep Learning\\assets\n"
     ]
    },
    {
     "name": "stderr",
     "output_type": "stream",
     "text": [
      "INFO:tensorflow:Assets written to: C:/Users/win11/iNeuron_Classes/2_Recorded_classes_ineuron/18. Deep Learning\\assets\n"
     ]
    }
   ],
   "source": [
    "tf.saved_model.save(mnistmodel_2,export_dir=\"C:/Users/win11/iNeuron_Classes/2_Recorded_classes_ineuron/18. Deep Learning\")"
   ]
  },
  {
   "cell_type": "code",
   "execution_count": null,
   "id": "b187ce45",
   "metadata": {},
   "outputs": [],
   "source": []
  }
 ],
 "metadata": {
  "kernelspec": {
   "display_name": "Python 3 (ipykernel)",
   "language": "python",
   "name": "python3"
  },
  "language_info": {
   "codemirror_mode": {
    "name": "ipython",
    "version": 3
   },
   "file_extension": ".py",
   "mimetype": "text/x-python",
   "name": "python",
   "nbconvert_exporter": "python",
   "pygments_lexer": "ipython3",
   "version": "3.9.12"
  }
 },
 "nbformat": 4,
 "nbformat_minor": 5
}
